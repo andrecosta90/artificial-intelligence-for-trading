{
 "cells": [
  {
   "cell_type": "code",
   "execution_count": 29,
   "metadata": {},
   "outputs": [
    {
     "name": "stdout",
     "output_type": "stream",
     "text": [
      "t-statistic: 0.760\n",
      "p-value: 0.226606\n",
      "\tmean return is ZERO\n"
     ]
    }
   ],
   "source": [
    "import pandas as pd\n",
    "import numpy as np\n",
    "import scipy.stats as stats\n",
    "\n",
    "def analyze_returns(net_returns):\n",
    "    \"\"\"\n",
    "    Perform a t-test, with the null hypothesis being that the mean return is zero.\n",
    "    \n",
    "    Parameters\n",
    "    ----------\n",
    "    net_returns : Pandas Series\n",
    "        A Pandas Series for each date\n",
    "    \n",
    "    Returns\n",
    "    -------\n",
    "    t_value\n",
    "        t-statistic from t-test\n",
    "    p_value\n",
    "        Corresponding p-value\n",
    "    \"\"\"\n",
    "    # TODO: Perform one-tailed t-test on net_returns\n",
    "    # Hint: You can use stats.ttest_1samp() to perform the test.\n",
    "    #       However, this performs a two-tailed t-test.\n",
    "    #       You'll need to divde the p-value by 2 to get the results of a one-tailed p-value.\n",
    "    \n",
    "    \n",
    "    xhat = net_returns.mean()\n",
    "    std = net_returns.std()\n",
    "    \n",
    "    standard_error = std/np.sqrt(net_returns.shape[0]) # standard error\n",
    "    \n",
    "    t_value = xhat / standard_error\n",
    "    \n",
    "    \n",
    "    \n",
    "    \n",
    "    \n",
    "\n",
    "    \"\"\"\n",
    "    We can use the t-test to test whether the mean of our sample differs in \n",
    "    a statistically significant way from the theoretical expectation.\n",
    "    \n",
    "    a: sample observations\n",
    "    popmean: expected value in null hypothesis\n",
    "    \n",
    "    In other words,\n",
    "    \n",
    "        we want to check if the MEAN of our sample is GREATER than ZERO (null hypothesis).\n",
    "    \n",
    "    \"\"\"\n",
    "    null_hypothesis = 0.0\n",
    "\n",
    "    return stats.ttest_1samp(a=net_returns, popmean=null_hypothesis, alternative=\"greater\")\n",
    "    \n",
    "def test_run(filename='net_returns.csv'):\n",
    "    \"\"\"Test run analyze_returns() with net strategy returns from a file.\"\"\"\n",
    "    net_returns = pd.read_csv(filename, header = 0, index_col = 0, squeeze = True)\n",
    "    t, p = analyze_returns(net_returns)\n",
    "    print(\"t-statistic: {:.3f}\\np-value: {:.6f}\".format(t, p))\n",
    "    if p > 0.05:\n",
    "        print(\"\\tmean return is ZERO\")\n",
    "    else:\n",
    "        print(\"\\n\\t==> mean return is GREATER than ZERO\")\n",
    "    \n",
    "test_run()"
   ]
  },
  {
   "cell_type": "code",
   "execution_count": null,
   "metadata": {},
   "outputs": [],
   "source": []
  }
 ],
 "metadata": {
  "kernelspec": {
   "display_name": "Python 3",
   "language": "python",
   "name": "python3"
  },
  "language_info": {
   "codemirror_mode": {
    "name": "ipython",
    "version": 3
   },
   "file_extension": ".py",
   "mimetype": "text/x-python",
   "name": "python",
   "nbconvert_exporter": "python",
   "pygments_lexer": "ipython3",
   "version": "3.8.5"
  }
 },
 "nbformat": 4,
 "nbformat_minor": 4
}
