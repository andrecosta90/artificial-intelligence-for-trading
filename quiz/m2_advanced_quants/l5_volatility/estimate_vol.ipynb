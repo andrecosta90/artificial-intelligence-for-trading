{
 "cells": [
  {
   "cell_type": "code",
   "execution_count": 39,
   "id": "champion-viking",
   "metadata": {},
   "outputs": [
    {
     "name": "stdout",
     "output_type": "stream",
     "text": [
      "Most recent volatility estimate: 0.000024\n"
     ]
    }
   ],
   "source": [
    "import pandas as pd\n",
    "import numpy as np\n",
    "\n",
    "def estimate_volatility(prices, l):\n",
    "    \"\"\"Create an exponential moving average model of the volatility of a stock\n",
    "    price, and return the most recent (last) volatility estimate.\n",
    "    \n",
    "    Parameters\n",
    "    ----------\n",
    "    prices : pandas.Series\n",
    "        A series of adjusted closing prices for a stock.\n",
    "        \n",
    "    l : float\n",
    "        The 'lambda' parameter of the exponential moving average model. Making\n",
    "        this value smaller will cause the model to weight older terms less \n",
    "        relative to more recent terms.\n",
    "        \n",
    "    Returns\n",
    "    -------\n",
    "    last_vol : float\n",
    "        The last element of your exponential moving averge volatility model series.\n",
    "    \n",
    "    \"\"\"\n",
    "    # TODO: Implement the exponential moving average volatility model and return the last value.\n",
    "    \n",
    "    return (prices.pct_change()**2).ewm(alpha=1-l).mean()[-1]\n",
    "    \n",
    "def test_run(filename='data.csv'):\n",
    "    \"\"\"Test run get_most_volatile() with stock prices from a file.\"\"\"\n",
    "    prices = pd.read_csv(filename, parse_dates=['date'], index_col='date', squeeze=True)\n",
    "    print(\"Most recent volatility estimate: {:.6f}\".format(estimate_volatility(prices, 0.7)))\n",
    "\n",
    "\n",
    "if __name__ == '__main__':\n",
    "    test_run()"
   ]
  },
  {
   "cell_type": "markdown",
   "id": "iraqi-swimming",
   "metadata": {},
   "source": [
    "### From Scratch"
   ]
  },
  {
   "cell_type": "code",
   "execution_count": 48,
   "id": "soviet-orlando",
   "metadata": {},
   "outputs": [
    {
     "name": "stdout",
     "output_type": "stream",
     "text": [
      "Most recent volatility estimate: 0.000024\n"
     ]
    }
   ],
   "source": [
    "prices = pd.read_csv(\"data.csv\", parse_dates=['date'], index_col='date', squeeze=True)\n",
    "lambda_param = .7\n",
    "pct_change = (prices.pct_change()**2).reset_index().dropna()\n",
    "pct_change[\"n_param\"] = list(reversed(range(pct_change.shape[0])))\n",
    "pct_change[\"power_lambda\"] = lambda_param ** pct_change[\"n_param\"]\n",
    "pct_change[\"weight\"] = pct_change[\"price\"] * pct_change[\"power_lambda\"]\n",
    "pd.concat([pct_change.head(), pct_change.tail()])\n",
    "\n",
    "pct_change[\"weight\"].sum() / pct_change[\"power_lambda\"].sum()\n",
    "\n",
    "print(\"Most recent volatility estimate: {:.6f}\".format(pct_change[\"weight\"].sum() / pct_change[\"power_lambda\"].sum()))"
   ]
  },
  {
   "cell_type": "code",
   "execution_count": null,
   "id": "subtle-seeker",
   "metadata": {},
   "outputs": [],
   "source": []
  }
 ],
 "metadata": {
  "kernelspec": {
   "display_name": "Python 3",
   "language": "python",
   "name": "python3"
  },
  "language_info": {
   "codemirror_mode": {
    "name": "ipython",
    "version": 3
   },
   "file_extension": ".py",
   "mimetype": "text/x-python",
   "name": "python",
   "nbconvert_exporter": "python",
   "pygments_lexer": "ipython3",
   "version": "3.8.5"
  }
 },
 "nbformat": 4,
 "nbformat_minor": 5
}
